{
 "cells": [
  {
   "cell_type": "code",
   "execution_count": 1,
   "metadata": {},
   "outputs": [
    {
     "name": "stdout",
     "output_type": "stream",
     "text": [
      "Loading dataset into df\n",
      "Finished loading dataset\n"
     ]
    }
   ],
   "source": [
    "import pandas as pd\n",
    "import sqlite3\n",
    "\n",
    "# Load the dataset into a Pandas DataFrame\n",
    "print(\"Loading dataset into df\")\n",
    "df = pd.read_csv('job_descriptions.csv')\n",
    "print(\"Finished loading dataset\")"
   ]
  },
  {
   "cell_type": "code",
   "execution_count": 2,
   "metadata": {},
   "outputs": [
    {
     "data": {
      "text/plain": [
       "1615940"
      ]
     },
     "execution_count": 2,
     "metadata": {},
     "output_type": "execute_result"
    }
   ],
   "source": [
    "conn = sqlite3.connect('job.db')\n",
    "\n",
    "# Get all column names from the DataFrame\n",
    "columns = df.columns.tolist()\n",
    "df.columns = df.columns.str.replace(' ', '_')\n",
    "\n",
    "# Create a table with FTS5 including all columns from the DataFrame\n",
    "columns_definitions = ', '.join([str(col).replace(\" \",\"_\") for col in columns])  # FTS5 requires text columns\n",
    "conn.execute(f'''\n",
    "CREATE VIRTUAL TABLE IF NOT EXISTS my_table USING fts5(\n",
    "    {columns_definitions}\n",
    ");\n",
    "''')\n",
    "\n",
    "# Insert data into the table\n",
    "df.to_sql('my_table', conn, if_exists='replace', index=False)"
   ]
  },
  {
   "cell_type": "code",
   "execution_count": 23,
   "metadata": {},
   "outputs": [],
   "source": [
    "# def search_database(conn, columns, keywords, limit=10):\n",
    "#     \"\"\" \n",
    "#     Search the SQLite database using Full-Text Search (FTS5).\n",
    "    \n",
    "#     :param conn: SQLite connection object \n",
    "#     :param columns: List of column names to search \n",
    "#     :param keywords: List of keywords to search for \n",
    "#     :param limit: Number of rows to return \n",
    "#     :return: List of matching rows \n",
    "#     \"\"\"\n",
    "#     if not keywords:\n",
    "#         return []  # Return empty if no keywords provided\n",
    "\n",
    "#     # Create a MATCH clause for each column\n",
    "#     columns_match = ' OR '.join([f'{col} MATCH ?' for col in columns])\n",
    "\n",
    "#     # Combine keywords into one search string for MATCH clause\n",
    "#     #keywords_query = ' AND '.join([' '.join(keywords)])  # Note: Adjust based on the search logic needed.\n",
    "#     keywords_query = 'Python Java'\n",
    "#     # Prepare the SQL query\n",
    "#     #query = f\"SELECT * FROM my_table WHERE ({columns_match}) AND ({keywords_query}) LIMIT ?;\"\n",
    "#     query = f\"SELECT * FROM my_table WHERE ({columns_match}) LIMIT ?;\"\n",
    "\n",
    "#     # Prepare parameters\n",
    "#     parameters = [keywords_query] * len(columns) + [limit]\n",
    "\n",
    "#     # Print debug information to check the query and parameters\n",
    "#     print(\"Query:\", query)\n",
    "#     print(\"Parameters:\", parameters)\n",
    "\n",
    "#     # Execute the query\n",
    "#     cursor = conn.execute(query, parameters)\n",
    "\n",
    "#     # Fetch and return the results\n",
    "#     results = cursor.fetchall()\n",
    "#     return results\n",
    "def search_database(conn, columns, keywords, limit=10):\n",
    "    \"\"\" \n",
    "    Search the SQLite database using Full-Text Search (FTS5).\n",
    "    \n",
    "    :param conn: SQLite connection object \n",
    "    :param columns: List of column names to search \n",
    "    :param keywords: List of keywords to search for \n",
    "    :param limit: Number of rows to return \n",
    "    :return: List of matching rows \n",
    "    \"\"\"\n",
    "    \n",
    "    if not keywords:\n",
    "        return []  # Return empty if no keywords provided\n",
    "\n",
    "    # Create a space-separated string for the keywords\n",
    "    keywords_query = ' '.join(keywords)  # \"Python Java\"\n",
    "\n",
    "    # Create a MATCH clause for each column using the same keywords\n",
    "    columns_match = ' OR '.join([f\"{col} MATCH ?\" for col in columns])\n",
    "\n",
    "    # Prepare the SQL query\n",
    "    query = f\"SELECT * FROM my_table WHERE {columns_match} LIMIT ?;\"\n",
    "\n",
    "    # Prepare parameters: the keywords query repeated for each column plus the limit\n",
    "    parameters = [keywords_query] * len(columns) + [limit]  # List is now size of (columns + 1)\n",
    "\n",
    "    # Print debug information to check the query and parameters\n",
    "    print(\"Query:\", query)\n",
    "    print(\"Parameters:\", parameters)\n",
    "\n",
    "    # Execute the query\n",
    "    cursor = conn.execute(query, parameters)\n",
    "\n",
    "    # Fetch and return the results\n",
    "    results = cursor.fetchall()\n",
    "    return results"
   ]
  },
  {
   "cell_type": "code",
   "execution_count": 24,
   "metadata": {},
   "outputs": [
    {
     "name": "stdout",
     "output_type": "stream",
     "text": [
      "Query: SELECT * FROM my_table WHERE Job_Description MATCH ? OR skills MATCH ? LIMIT ?;\n",
      "Parameters: ['Python Java', 'Python Java', 10]\n"
     ]
    },
    {
     "ename": "OperationalError",
     "evalue": "unable to use function MATCH in the requested context",
     "output_type": "error",
     "traceback": [
      "\u001b[1;31m---------------------------------------------------------------------------\u001b[0m",
      "\u001b[1;31mOperationalError\u001b[0m                          Traceback (most recent call last)",
      "Cell \u001b[1;32mIn[24], line 4\u001b[0m\n\u001b[0;32m      1\u001b[0m columns_to_search \u001b[38;5;241m=\u001b[39m [\u001b[38;5;124m'\u001b[39m\u001b[38;5;124mJob_Description\u001b[39m\u001b[38;5;124m'\u001b[39m, \u001b[38;5;124m\"\u001b[39m\u001b[38;5;124mskills\u001b[39m\u001b[38;5;124m\"\u001b[39m]  \u001b[38;5;66;03m# All columns\u001b[39;00m\n\u001b[0;32m      2\u001b[0m keywords \u001b[38;5;241m=\u001b[39m [\u001b[38;5;124m'\u001b[39m\u001b[38;5;124mPython\u001b[39m\u001b[38;5;124m'\u001b[39m, \u001b[38;5;124m'\u001b[39m\u001b[38;5;124mJava\u001b[39m\u001b[38;5;124m'\u001b[39m]  \u001b[38;5;66;03m# Replace with the keywords you want to search for\u001b[39;00m\n\u001b[1;32m----> 4\u001b[0m results \u001b[38;5;241m=\u001b[39m search_database(conn, columns\u001b[38;5;241m=\u001b[39mcolumns_to_search, keywords\u001b[38;5;241m=\u001b[39mkeywords, limit\u001b[38;5;241m=\u001b[39m\u001b[38;5;241m10\u001b[39m)\n\u001b[0;32m      6\u001b[0m \u001b[38;5;66;03m# Display the results\u001b[39;00m\n\u001b[0;32m      7\u001b[0m \u001b[38;5;28;01mfor\u001b[39;00m row \u001b[38;5;129;01min\u001b[39;00m results:\n",
      "Cell \u001b[1;32mIn[23], line 68\u001b[0m, in \u001b[0;36msearch_database\u001b[1;34m(conn, columns, keywords, limit)\u001b[0m\n\u001b[0;32m     65\u001b[0m \u001b[38;5;28mprint\u001b[39m(\u001b[38;5;124m\"\u001b[39m\u001b[38;5;124mParameters:\u001b[39m\u001b[38;5;124m\"\u001b[39m, parameters)\n\u001b[0;32m     67\u001b[0m \u001b[38;5;66;03m# Execute the query\u001b[39;00m\n\u001b[1;32m---> 68\u001b[0m cursor \u001b[38;5;241m=\u001b[39m conn\u001b[38;5;241m.\u001b[39mexecute(query, parameters)\n\u001b[0;32m     70\u001b[0m \u001b[38;5;66;03m# Fetch and return the results\u001b[39;00m\n\u001b[0;32m     71\u001b[0m results \u001b[38;5;241m=\u001b[39m cursor\u001b[38;5;241m.\u001b[39mfetchall()\n",
      "\u001b[1;31mOperationalError\u001b[0m: unable to use function MATCH in the requested context"
     ]
    }
   ],
   "source": [
    "columns_to_search = ['Job_Description', \"skills\"]  # All columns\n",
    "keywords = ['Python', 'Java']  # Replace with the keywords you want to search for\n",
    "\n",
    "results = search_database(conn, columns=columns_to_search, keywords=keywords, limit=10)\n",
    "\n",
    "# Display the results\n",
    "for row in results:\n",
    "    print(row)"
   ]
  }
 ],
 "metadata": {
  "kernelspec": {
   "display_name": "base",
   "language": "python",
   "name": "python3"
  },
  "language_info": {
   "codemirror_mode": {
    "name": "ipython",
    "version": 3
   },
   "file_extension": ".py",
   "mimetype": "text/x-python",
   "name": "python",
   "nbconvert_exporter": "python",
   "pygments_lexer": "ipython3",
   "version": "3.12.4"
  }
 },
 "nbformat": 4,
 "nbformat_minor": 2
}
