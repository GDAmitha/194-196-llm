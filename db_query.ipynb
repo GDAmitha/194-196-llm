{
 "cells": [
  {
   "cell_type": "markdown",
   "metadata": {},
   "source": [
    "# **Loading Dataset into DataFrame**"
   ]
  },
  {
   "cell_type": "code",
   "execution_count": 1,
   "metadata": {},
   "outputs": [
    {
     "name": "stdout",
     "output_type": "stream",
     "text": [
      "Error: File does not exist.\n"
     ]
    }
   ],
   "source": [
    "import pandas as pd\n",
    "import sqlite3\n",
    "import os\n",
    "\n",
    "def load_dataset(file_path):\n",
    "    if not os.path.exists(file_path):\n",
    "        print(f\"Error: File does not exist.\")\n",
    "        return None\n",
    "\n",
    "    try:\n",
    "        print(f\"Loading dataset from into DataFrame...\")\n",
    "        df = pd.read_csv(file_path)\n",
    "        print(\"Finished loading dataset.\")\n",
    "        return df\n",
    "    except pd.errors.EmptyDataError:\n",
    "        print(\"Error: The file is empty.\")\n",
    "    except pd.errors.ParserError:\n",
    "        print(\"Error: There was an issue parsing the file.\")\n",
    "    except Exception as e:\n",
    "        print(f\"An unexpected error occurred: {e}\")\n",
    "    return None\n",
    "\n",
    "# Path to the dataset\n",
    "file_path = 'job_descriptions.csv'\n",
    "\n",
    "# Load the dataset\n",
    "df = load_dataset(file_path)\n"
   ]
  },
  {
   "cell_type": "code",
   "execution_count": 2,
   "metadata": {},
   "outputs": [
    {
     "name": "stdout",
     "output_type": "stream",
     "text": [
      "Unexpected error: 'NoneType' object has no attribute 'columns'\n",
      "Connection closed.\n"
     ]
    }
   ],
   "source": [
    "\n",
    "try:\n",
    "    # Connect to the SQLite database\n",
    "    conn = sqlite3.connect('job.db')\n",
    "\n",
    "    # Replace spaces with underscores in column names\n",
    "    columns = df.columns.tolist()\n",
    "    df.columns = df.columns.str.replace(' ', '_')\n",
    "\n",
    "    # Create an FTS5 table with the cleaned-up column names\n",
    "    columns_definitions = ', '.join(df.columns)\n",
    "    conn.execute(f'''\n",
    "    CREATE VIRTUAL TABLE IF NOT EXISTS my_table USING fts5({columns_definitions});\n",
    "    ''')\n",
    "\n",
    "    # Insert DataFrame data into the FTS5 table\n",
    "    df.to_sql('my_table', conn, if_exists='replace', index=False)\n",
    "    print(\"Data successfully inserted into FTS5 table.\")\n",
    "    \n",
    "except sqlite3.Error as e:\n",
    "    print(f\"SQLite error: {e}\")\n",
    "except Exception as e:\n",
    "    print(f\"Unexpected error: {e}\")\n",
    "finally:\n",
    "    # Close the connection\n",
    "    if conn:\n",
    "        conn.close()\n",
    "        print(\"Connection closed.\")\n"
   ]
  },
  {
   "cell_type": "code",
   "execution_count": 3,
   "metadata": {},
   "outputs": [],
   "source": [
    "def search_database(conn, columns, keywords, limit, match_all=False):\n",
    "    \"\"\" \n",
    "    Search the SQLite database using Full-Text Search (FTS5).\n",
    "    \n",
    "    :param conn: SQLite connection object \n",
    "    :param columns: List of column names to search \n",
    "    :param keywords: List of keywords to search for \n",
    "    :param limit: Number of rows to return \n",
    "    :param match_all: If True, all columns must match the keywords (AND). Default is OR.\n",
    "    :return: List of matching rows \n",
    "    \"\"\"\n",
    "    \n",
    "    if not keywords or not columns:\n",
    "        return []  # Return empty if no keywords or columns provided\n",
    "\n",
    "    # Create a space-separated string for the keywords\n",
    "    keywords_query = ' '.join(keywords)\n",
    "\n",
    "    # Build the MATCH clause, using AND or OR depending on match_all\n",
    "    operator = ' AND ' if match_all else ' OR '\n",
    "    columns_match = operator.join([f\"{col} MATCH ?\" for col in columns])\n",
    "\n",
    "    # Prepare the SQL query\n",
    "    query = f\"SELECT * FROM my_table WHERE {columns_match} LIMIT ?;\"\n",
    "\n",
    "    # Prepare parameters: the keywords query repeated for each column plus the limit\n",
    "    parameters = [keywords_query] * len(columns) + [limit]\n",
    "\n",
    "    # Execute the query and fetch the results\n",
    "    try:\n",
    "        cursor = conn.execute(query, parameters)\n",
    "        results = cursor.fetchall()\n",
    "        return results\n",
    "    except sqlite3.Error as e:\n",
    "        print(f\"SQLite error: {e}\")\n",
    "        return []\n",
    "\n"
   ]
  },
  {
   "cell_type": "code",
   "execution_count": 4,
   "metadata": {},
   "outputs": [
    {
     "name": "stdout",
     "output_type": "stream",
     "text": [
      "SQLite error: Cannot operate on a closed database.\n"
     ]
    }
   ],
   "source": [
    "columns_to_search = ['Job_Description', \"skills\"]  # All columns\n",
    "keywords = ['Python', 'Java']  # Replace with the keywords you want to search for\n",
    "\n",
    "results = search_database(conn, columns=columns_to_search, keywords=keywords, limit=10, match_all=True)\n",
    "\n",
    "# Display the results\n",
    "for row in results:\n",
    "    print(row)"
   ]
  }
 ],
 "metadata": {
  "kernelspec": {
   "display_name": ".venv",
   "language": "python",
   "name": "python3"
  },
  "language_info": {
   "codemirror_mode": {
    "name": "ipython",
    "version": 3
   },
   "file_extension": ".py",
   "mimetype": "text/x-python",
   "name": "python",
   "nbconvert_exporter": "python",
   "pygments_lexer": "ipython3",
   "version": "3.12.7"
  }
 },
 "nbformat": 4,
 "nbformat_minor": 2
}
